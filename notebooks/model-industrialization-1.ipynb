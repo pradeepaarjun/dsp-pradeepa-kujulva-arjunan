{
 "cells": [
  {
   "cell_type": "markdown",
   "id": "015a1954",
   "metadata": {},
   "source": [
    "# Import Section"
   ]
  },
  {
   "cell_type": "code",
   "execution_count": 2,
   "id": "488f41fa",
   "metadata": {},
   "outputs": [],
   "source": [
    "import sys\n",
    "sys.path.append('C:/Pradeepa/SEMESTER2_EPITA/Data Science in production/dsp-pradeepa-kujulva-arjunan')"
   ]
  },
  {
   "cell_type": "code",
   "execution_count": 3,
   "id": "649d40e0",
   "metadata": {},
   "outputs": [
    {
     "name": "stderr",
     "output_type": "stream",
     "text": [
      "c:\\Python\\Lib\\site-packages\\pandas\\core\\arrays\\masked.py:60: UserWarning: Pandas requires version '1.3.6' or newer of 'bottleneck' (version '1.3.5' currently installed).\n",
      "  from pandas.core import (\n"
     ]
    }
   ],
   "source": [
    "import numpy as np\n",
    "import pandas as pd\n",
    "import joblib\n",
    "from sklearn.preprocessing import StandardScaler, OneHotEncoder\n",
    "from sklearn.metrics import mean_squared_log_error\n",
    "from sklearn.linear_model import LinearRegression\n",
    "from sklearn.model_selection import train_test_split\n",
    "from house_prices import CATEGORICAL_COLUMNS\n",
    "from house_prices import MODEL_PATH\n",
    "from house_prices import ENCODER_PATH\n",
    "from house_prices import NUMERICAL_COLUMNS\n",
    "from house_prices import SCALER_PATH\n",
    "from house_prices import TARGET_COLUMNS"
   ]
  },
  {
   "cell_type": "markdown",
   "id": "2ba9fe2f",
   "metadata": {},
   "source": [
    "# Model Building"
   ]
  },
  {
   "cell_type": "markdown",
   "id": "2ce747a4",
   "metadata": {},
   "source": [
    "## Model Training"
   ]
  },
  {
   "cell_type": "code",
   "execution_count": 4,
   "id": "c6b652a7",
   "metadata": {},
   "outputs": [],
   "source": [
    "scaler = StandardScaler()\n",
    "encoder = OneHotEncoder(handle_unknown='ignore')\n",
    "\n",
    "\n",
    "def compute_rmsle(y_test: np.ndarray,\n",
    "                  y_pred: np.ndarray, precision: int = 2) -> float:\n",
    "    rmsle = np.sqrt(mean_squared_log_error(y_test, y_pred))\n",
    "    return round(rmsle, precision)\n",
    "\n",
    "\n",
    "def scale_numerical_features(dataset, flag):\n",
    "    if flag:\n",
    "        scaler_set = scaler.fit(dataset[NUMERICAL_COLUMNS])\n",
    "        joblib.dump(scaler_set, SCALER_PATH)\n",
    "        scaler_set = scaler.transform(dataset[NUMERICAL_COLUMNS])\n",
    "    else:\n",
    "        scaler_set = joblib.load(SCALER_PATH).transform(dataset[NUMERICAL_COLUMNS])\n",
    "    return scaler_set\n",
    "\n",
    "\n",
    "def encode_categorical_features(dataset, flag):\n",
    "    if flag:\n",
    "        encoded_set = encoder.fit(dataset[CATEGORICAL_COLUMNS])\n",
    "        joblib.dump(encoded_set, ENCODER_PATH)\n",
    "        encoded_set = encoder.transform(dataset[CATEGORICAL_COLUMNS]).toarray()\n",
    "    else:\n",
    "        encoded_set = joblib.load(ENCODER_PATH).transform(dataset[CATEGORICAL_COLUMNS]).toarray()\n",
    "    return encoded_set\n",
    "\n",
    "\n",
    "def preprocessor(dataset, flag):\n",
    "    numerical_features = scale_numerical_features(dataset, flag)\n",
    "    categorical_features = encode_categorical_features(dataset, flag)\n",
    "    processed_feature = np.hstack([numerical_features, categorical_features])\n",
    "    return processed_feature\n",
    "\n",
    "\n",
    "def transform_target(y_train):\n",
    "    y_train_transformed = np.log(y_train + 1)\n",
    "    return y_train_transformed\n",
    "\n",
    "\n",
    "def train_model(X_train_prepared, y_train_transformed):\n",
    "    model = LinearRegression()\n",
    "    model.fit(X_train_prepared, y_train_transformed)\n",
    "    joblib.dump(model, MODEL_PATH)\n",
    "    return model\n",
    "\n",
    "\n",
    "def model_predict(model, X_test_prepared):\n",
    "    y_pred_raw = model.predict(X_test_prepared)\n",
    "    y_pred = np.exp(y_pred_raw) - 1\n",
    "    return y_pred\n"
   ]
  },
  {
   "cell_type": "markdown",
   "id": "95a38a0c",
   "metadata": {},
   "source": [
    "# Model Evaluation"
   ]
  },
  {
   "cell_type": "code",
   "execution_count": 5,
   "id": "11defb1a",
   "metadata": {},
   "outputs": [],
   "source": [
    "def model_predict(model, X_test_prepared):\n",
    "    y_pred_raw = model.predict(X_test_prepared)\n",
    "    y_pred = np.exp(y_pred_raw) - 1  \n",
    "    return y_pred"
   ]
  },
  {
   "cell_type": "code",
   "execution_count": 12,
   "id": "a14517ea",
   "metadata": {},
   "outputs": [],
   "source": [
    "\n",
    "\n",
    "training_data_df = pd.read_csv('C:/Pradeepa/SEMESTER2_EPITA/Data Science in production/dsp-pradeepa-kujulva-arjunan/data/train.csv')\n",
    "\n",
    "def build_model(data: pd.DataFrame) -> dict[str, str]:\n",
    "    feature, target = data[NUMERICAL_COLUMNS + CATEGORICAL_COLUMNS] , data[TARGET_COLUMNS]\n",
    "    X_train, X_test, y_train, y_test =  train_test_split(feature, target, test_size=0.2, random_state=42) \n",
    "    processed_feature_train = preprocessor(X_train, True)\n",
    "    processed_feature_test = preprocessor(X_test, True)\n",
    "    y_train_transformed = transform_target(y_train)\n",
    "    model = train_model(processed_feature_train, y_train_transformed)\n",
    "    y_pred = model_predict(model, processed_feature_test)\n",
    "    rmsle_score = compute_rmsle(y_test, y_pred)\n",
    "    result = {'RMSLE': str(rmsle_score)}\n",
    "    return result\n"
   ]
  },
  {
   "cell_type": "markdown",
   "id": "ce18bea2",
   "metadata": {},
   "source": [
    "# Model Inference"
   ]
  },
  {
   "cell_type": "markdown",
   "id": "11299d33",
   "metadata": {},
   "source": [
    "### Loading test.csv file"
   ]
  },
  {
   "cell_type": "code",
   "execution_count": 7,
   "id": "4c7a0e9e",
   "metadata": {},
   "outputs": [],
   "source": [
    "test_data = pd.read_csv('C:/Pradeepa/SEMESTER2_EPITA/Data Science in production/dsp-pradeepa-kujulva-arjunan/data/test.csv')"
   ]
  },
  {
   "cell_type": "markdown",
   "id": "94b7da50",
   "metadata": {},
   "source": [
    "### Preprocessing and feature engineering the test set"
   ]
  },
  {
   "cell_type": "code",
   "execution_count": 9,
   "id": "89f1c294",
   "metadata": {},
   "outputs": [],
   "source": [
    "loaded_model = joblib.load('..\\models\\model.joblib')\n",
    "loaded_encoder = joblib.load('..\\models\\encoder.joblib')\n"
   ]
  },
  {
   "cell_type": "code",
   "execution_count": 10,
   "id": "650f36cd",
   "metadata": {},
   "outputs": [],
   "source": [
    "def make_predictions(input_data: pd.DataFrame) -> np.ndarray:\n",
    "    feature = input_data[NUMERICAL_COLUMNS + CATEGORICAL_COLUMNS]\n",
    "    numerical_features = scale_numerical_features(feature, False)\n",
    "    categorical_features = encode_categorical_features(feature, False)\n",
    "    processed_test_feature = np.hstack([numerical_features,\n",
    "                                        categorical_features])\n",
    "    acutal_prediction = joblib.load(MODEL_PATH).predict(processed_test_feature)\n",
    "    submission_df = pd.DataFrame({'Id': input_data['Id'],\n",
    "                                  'SalePrice': np.exp(acutal_prediction)})\n",
    "    return submission_df\n",
    "\n"
   ]
  },
  {
   "cell_type": "code",
   "execution_count": 11,
   "id": "e3bba33b",
   "metadata": {},
   "outputs": [
    {
     "data": {
      "text/html": [
       "<div>\n",
       "<style scoped>\n",
       "    .dataframe tbody tr th:only-of-type {\n",
       "        vertical-align: middle;\n",
       "    }\n",
       "\n",
       "    .dataframe tbody tr th {\n",
       "        vertical-align: top;\n",
       "    }\n",
       "\n",
       "    .dataframe thead th {\n",
       "        text-align: right;\n",
       "    }\n",
       "</style>\n",
       "<table border=\"1\" class=\"dataframe\">\n",
       "  <thead>\n",
       "    <tr style=\"text-align: right;\">\n",
       "      <th></th>\n",
       "      <th>Id</th>\n",
       "      <th>SalePrice</th>\n",
       "    </tr>\n",
       "  </thead>\n",
       "  <tbody>\n",
       "    <tr>\n",
       "      <th>0</th>\n",
       "      <td>1461</td>\n",
       "      <td>95883.155677</td>\n",
       "    </tr>\n",
       "    <tr>\n",
       "      <th>1</th>\n",
       "      <td>1462</td>\n",
       "      <td>165828.339970</td>\n",
       "    </tr>\n",
       "    <tr>\n",
       "      <th>2</th>\n",
       "      <td>1463</td>\n",
       "      <td>190985.985944</td>\n",
       "    </tr>\n",
       "    <tr>\n",
       "      <th>3</th>\n",
       "      <td>1464</td>\n",
       "      <td>186314.255659</td>\n",
       "    </tr>\n",
       "    <tr>\n",
       "      <th>4</th>\n",
       "      <td>1465</td>\n",
       "      <td>157070.014211</td>\n",
       "    </tr>\n",
       "    <tr>\n",
       "      <th>...</th>\n",
       "      <td>...</td>\n",
       "      <td>...</td>\n",
       "    </tr>\n",
       "    <tr>\n",
       "      <th>1454</th>\n",
       "      <td>2915</td>\n",
       "      <td>108379.339111</td>\n",
       "    </tr>\n",
       "    <tr>\n",
       "      <th>1455</th>\n",
       "      <td>2916</td>\n",
       "      <td>108364.128095</td>\n",
       "    </tr>\n",
       "    <tr>\n",
       "      <th>1456</th>\n",
       "      <td>2917</td>\n",
       "      <td>160800.535924</td>\n",
       "    </tr>\n",
       "    <tr>\n",
       "      <th>1457</th>\n",
       "      <td>2918</td>\n",
       "      <td>138019.363092</td>\n",
       "    </tr>\n",
       "    <tr>\n",
       "      <th>1458</th>\n",
       "      <td>2919</td>\n",
       "      <td>224670.622999</td>\n",
       "    </tr>\n",
       "  </tbody>\n",
       "</table>\n",
       "<p>1459 rows × 2 columns</p>\n",
       "</div>"
      ],
      "text/plain": [
       "        Id      SalePrice\n",
       "0     1461   95883.155677\n",
       "1     1462  165828.339970\n",
       "2     1463  190985.985944\n",
       "3     1464  186314.255659\n",
       "4     1465  157070.014211\n",
       "...    ...            ...\n",
       "1454  2915  108379.339111\n",
       "1455  2916  108364.128095\n",
       "1456  2917  160800.535924\n",
       "1457  2918  138019.363092\n",
       "1458  2919  224670.622999\n",
       "\n",
       "[1459 rows x 2 columns]"
      ]
     },
     "execution_count": 11,
     "metadata": {},
     "output_type": "execute_result"
    }
   ],
   "source": [
    "predictions = make_predictions(test_data)\n",
    "predictions"
   ]
  }
 ],
 "metadata": {
  "kernelspec": {
   "display_name": "Python 3 (ipykernel)",
   "language": "python",
   "name": "python3"
  },
  "language_info": {
   "codemirror_mode": {
    "name": "ipython",
    "version": 3
   },
   "file_extension": ".py",
   "mimetype": "text/x-python",
   "name": "python",
   "nbconvert_exporter": "python",
   "pygments_lexer": "ipython3",
   "version": "3.11.3"
  }
 },
 "nbformat": 4,
 "nbformat_minor": 5
}
