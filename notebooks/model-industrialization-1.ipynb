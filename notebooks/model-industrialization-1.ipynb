{
 "cells": [
  {
   "cell_type": "markdown",
   "id": "015a1954",
   "metadata": {},
   "source": [
    "# Import Section"
   ]
  },
  {
   "cell_type": "code",
   "execution_count": 2,
   "id": "649d40e0",
   "metadata": {},
   "outputs": [],
   "source": [
    "import numpy as np\n",
    "import pandas as pd\n",
    "from sklearn.model_selection import train_test_split\n",
    "from sklearn.preprocessing import StandardScaler, OneHotEncoder\n",
    "from sklearn.compose import ColumnTransformer\n",
    "from sklearn.pipeline import Pipeline\n",
    "from sklearn.linear_model import LinearRegression\n",
    "from sklearn.ensemble import RandomForestRegressor\n",
    "from sklearn.metrics import mean_squared_log_error\n",
    "import joblib"
   ]
  },
  {
   "cell_type": "markdown",
   "id": "2ba9fe2f",
   "metadata": {},
   "source": [
    "# Model Building"
   ]
  },
  {
   "cell_type": "markdown",
   "id": "2ce747a4",
   "metadata": {},
   "source": [
    "## Model Training"
   ]
  },
  {
   "cell_type": "code",
   "execution_count": 8,
   "id": "c6b652a7",
   "metadata": {},
   "outputs": [],
   "source": [
    "scaler = StandardScaler()\n",
    "encoder = OneHotEncoder(handle_unknown='ignore')\n",
    "#RMSLE function\n",
    "def compute_rmsle(y_test: np.ndarray, y_pred: np.ndarray, precision: int = 2) -> float:\n",
    "    rmsle = np.sqrt(mean_squared_log_error(y_test, y_pred))\n",
    "    return round(rmsle, precision)\n",
    "\n",
    "\n",
    "def select_feature(train_data, numerical_cols, categorical_cols) -> pd.DataFrame:\n",
    "    features = train_data[numerical_cols + categorical_cols]\n",
    "    return features\n",
    "\n",
    "\n",
    "def select_target(train_data, target_col) -> pd.Series:\n",
    "    target = train_data[target_col]\n",
    "    return target\n",
    "\n",
    "def split_dataset(features, target):\n",
    "    X_train, X_test, y_train, y_test = train_test_split(features, target, test_size=0.2, random_state=42)\n",
    "    return X_train, X_test, y_train, y_test\n",
    "\n",
    "def scale_numerical_features(dataset, numerical_cols, flag):\n",
    "    if flag:\n",
    "        scaler_set =  scaler.fit(dataset[numerical_cols])\n",
    "    scaler_set =  scaler.transform(dataset[numerical_cols])\n",
    "    return scaler_set\n",
    "\n",
    "def encode_categorical_features(dataset, categorical_cols, flag):\n",
    "    if flag:\n",
    "        encoded_set = encoder.fit(dataset[categorical_cols])\n",
    "    encoded_set = encoder.transform(dataset[categorical_cols]).toarray() \n",
    "    return encoded_set\n",
    "\n",
    "def combining_features(dataset, numerical_cols, categorical_cols, flag):\n",
    "    numerical_features = scale_numerical_features(dataset, numerical_cols, flag)\n",
    "    categorical_features = encode_categorical_features(dataset, categorical_cols, flag)\n",
    "    processed_feature = np.hstack([numerical_features, categorical_features])\n",
    "    return processed_feature\n",
    "\n",
    "def transform_target(y_train):\n",
    "    y_train_transformed = np.log(y_train + 1)\n",
    "    return y_train_transformed\n",
    "\n",
    "def train_model(X_train_prepared, y_train_transformed):\n",
    "    model = LinearRegression()\n",
    "    model.fit(X_train_prepared, y_train_transformed)\n",
    "    #joblib.dump for model\n",
    "    model_path = 'C:\\Pradeepa\\SEMESTER2_EPITA\\Data Science in production\\models\\model.joblib'\n",
    "    #joblib.dump for encoder\n",
    "    encoder_path = 'C:\\Pradeepa\\SEMESTER2_EPITA\\Data Science in production\\models\\encoder.joblib'\n",
    "    joblib.dump(model, model_path)\n",
    "    joblib.dump(encoder, encoder_path)\n",
    "    return model\n"
   ]
  },
  {
   "cell_type": "markdown",
   "id": "95a38a0c",
   "metadata": {},
   "source": [
    "# Model Evaluation"
   ]
  },
  {
   "cell_type": "code",
   "execution_count": 31,
   "id": "11defb1a",
   "metadata": {},
   "outputs": [],
   "source": [
    "\n",
    "def model_predict(model, X_test_prepared):\n",
    "    y_pred_raw = model.predict(X_test_prepared)\n",
    "    y_pred = np.exp(y_pred_raw) - 1  \n",
    "    return y_pred\n",
    "\n",
    "def evaluate_model(y_test, y_pred):\n",
    "    rmsle_score = compute_rmsle(y_test, y_pred)\n",
    "    print(f'RMSLE: {rmsle_score}')"
   ]
  },
  {
   "cell_type": "code",
   "execution_count": 32,
   "id": "a14517ea",
   "metadata": {},
   "outputs": [
    {
     "name": "stdout",
     "output_type": "stream",
     "text": [
      "RMSLE: 0.25\n"
     ]
    }
   ],
   "source": [
    "training_data_df = pd.read_csv('C:/Pradeepa/SEMESTER2_EPITA/Data Science in production/dsp-pradeepa-kujulva-arjunan/data/train.csv')\n",
    "\n",
    "numerical_cols = ['LotArea', 'GrLivArea'] \n",
    "categorical_cols = ['MSZoning', 'Street'] \n",
    "target_col = 'SalePrice'\n",
    "\n",
    "\n",
    "def model_training(train_data):\n",
    "    feature, target = select_feature(train_data, numerical_cols, categorical_cols), select_target(train_data, target_col)\n",
    "    X_train, X_test, y_train, y_test = split_dataset(feature, target)\n",
    "    scalar_values = scale_numerical_features(X_train, numerical_cols, True)\n",
    "    categorical_values = encode_categorical_features(X_train, categorical_cols, True)\n",
    "    processed_feature_train = combining_features(X_train , numerical_cols, categorical_cols, True)\n",
    "    processed_feature_test = combining_features(X_test , numerical_cols, categorical_cols, True)\n",
    "    y_train_transformed = transform_target(y_train)\n",
    "    model = train_model(processed_feature_train, y_train_transformed)\n",
    "    y_pred = model_predict(model, processed_feature_test)\n",
    "    evaluate_model(y_test, y_pred)\n",
    "    return model, processed_feature_test, y_test\n",
    "\n",
    "def build_model(data: pd.DataFrame) -> dict[str, str]:\n",
    "    model_training(data)\n",
    "    pass\n",
    "\n",
    "model_performance_dict = build_model(training_data_df)\n"
   ]
  },
  {
   "cell_type": "markdown",
   "id": "ce18bea2",
   "metadata": {},
   "source": [
    "# Model Inference"
   ]
  },
  {
   "cell_type": "markdown",
   "id": "11299d33",
   "metadata": {},
   "source": [
    "### Loading test.csv file"
   ]
  },
  {
   "cell_type": "code",
   "execution_count": 27,
   "id": "4c7a0e9e",
   "metadata": {},
   "outputs": [],
   "source": [
    "test_data = pd.read_csv('C:/Pradeepa/SEMESTER2_EPITA/Data Science in production/dsp-pradeepa-kujulva-arjunan/data/test.csv')"
   ]
  },
  {
   "cell_type": "markdown",
   "id": "94b7da50",
   "metadata": {},
   "source": [
    "### Preprocessing and feature engineering the test set"
   ]
  },
  {
   "cell_type": "code",
   "execution_count": 28,
   "id": "89f1c294",
   "metadata": {},
   "outputs": [],
   "source": [
    "# Load the trained model and encoder\n",
    "loaded_model = joblib.load('C:/Pradeepa/SEMESTER2_EPITA/Data Science in production/models/model.joblib')\n",
    "loaded_encoder = joblib.load('C:/Pradeepa/SEMESTER2_EPITA/Data Science in production/models/encoder.joblib')\n",
    "\n",
    "numerical_cols = ['LotArea', 'GrLivArea'] \n",
    "categorical_cols = ['MSZoning', 'Street'] "
   ]
  },
  {
   "cell_type": "code",
   "execution_count": 33,
   "id": "650f36cd",
   "metadata": {},
   "outputs": [],
   "source": [
    "test_feature = select_feature(test_data, numerical_cols, categorical_cols)\n",
    "test_numerical_features = scale_numerical_features(test_feature, numerical_cols, False)\n",
    "test_categorical_features = encode_categorical_features(test_feature, categorical_cols, False)\n",
    "processed_test_feature = np.hstack([test_numerical_features, test_categorical_features])\n",
    "\n",
    "# Make predictions using the loaded model\n",
    "acutal_prediction = loaded_model.predict(processed_test_feature)\n",
    "submission_df = pd.DataFrame({'Id': test_data['Id'], 'SalePrice': acutal_prediction})"
   ]
  },
  {
   "cell_type": "markdown",
   "id": "165ac0c4",
   "metadata": {},
   "source": [
    "### Actual Prediction"
   ]
  },
  {
   "cell_type": "code",
   "execution_count": 34,
   "id": "fbde2a40",
   "metadata": {},
   "outputs": [
    {
     "data": {
      "text/html": [
       "<div>\n",
       "<style scoped>\n",
       "    .dataframe tbody tr th:only-of-type {\n",
       "        vertical-align: middle;\n",
       "    }\n",
       "\n",
       "    .dataframe tbody tr th {\n",
       "        vertical-align: top;\n",
       "    }\n",
       "\n",
       "    .dataframe thead th {\n",
       "        text-align: right;\n",
       "    }\n",
       "</style>\n",
       "<table border=\"1\" class=\"dataframe\">\n",
       "  <thead>\n",
       "    <tr style=\"text-align: right;\">\n",
       "      <th></th>\n",
       "      <th>Id</th>\n",
       "      <th>SalePrice</th>\n",
       "    </tr>\n",
       "  </thead>\n",
       "  <tbody>\n",
       "    <tr>\n",
       "      <th>0</th>\n",
       "      <td>1461</td>\n",
       "      <td>11.470886</td>\n",
       "    </tr>\n",
       "    <tr>\n",
       "      <th>1</th>\n",
       "      <td>1462</td>\n",
       "      <td>12.018708</td>\n",
       "    </tr>\n",
       "    <tr>\n",
       "      <th>2</th>\n",
       "      <td>1463</td>\n",
       "      <td>12.159955</td>\n",
       "    </tr>\n",
       "    <tr>\n",
       "      <th>3</th>\n",
       "      <td>1464</td>\n",
       "      <td>12.135190</td>\n",
       "    </tr>\n",
       "    <tr>\n",
       "      <th>4</th>\n",
       "      <td>1465</td>\n",
       "      <td>11.964447</td>\n",
       "    </tr>\n",
       "  </tbody>\n",
       "</table>\n",
       "</div>"
      ],
      "text/plain": [
       "     Id  SalePrice\n",
       "0  1461  11.470886\n",
       "1  1462  12.018708\n",
       "2  1463  12.159955\n",
       "3  1464  12.135190\n",
       "4  1465  11.964447"
      ]
     },
     "execution_count": 34,
     "metadata": {},
     "output_type": "execute_result"
    }
   ],
   "source": [
    "submission_df.head()"
   ]
  }
 ],
 "metadata": {
  "kernelspec": {
   "display_name": "Python 3 (ipykernel)",
   "language": "python",
   "name": "python3"
  },
  "language_info": {
   "codemirror_mode": {
    "name": "ipython",
    "version": 3
   },
   "file_extension": ".py",
   "mimetype": "text/x-python",
   "name": "python",
   "nbconvert_exporter": "python",
   "pygments_lexer": "ipython3",
   "version": "3.11.3"
  }
 },
 "nbformat": 4,
 "nbformat_minor": 5
}
